{
 "cells": [
  {
   "cell_type": "code",
   "execution_count": 8,
   "metadata": {},
   "outputs": [],
   "source": [
    "import sqlite3"
   ]
  },
  {
   "cell_type": "code",
   "execution_count": 9,
   "metadata": {},
   "outputs": [],
   "source": [
    "#conn = sqlite3.connect(':memory:') \n",
    "\n",
    "conn = sqlite3.connect('customer.db')"
   ]
  },
  {
   "cell_type": "code",
   "execution_count": 10,
   "metadata": {},
   "outputs": [],
   "source": [
    "c = conn.cursor()"
   ]
  },
  {
   "cell_type": "code",
   "execution_count": 11,
   "metadata": {},
   "outputs": [
    {
     "ename": "OperationalError",
     "evalue": "table customers already exists",
     "output_type": "error",
     "traceback": [
      "\u001b[0;31m---------------------------------------------------------------------------\u001b[0m",
      "\u001b[0;31mOperationalError\u001b[0m                          Traceback (most recent call last)",
      "\u001b[0;32m<ipython-input-11-3bfd81bfceb3>\u001b[0m in \u001b[0;36m<module>\u001b[0;34m\u001b[0m\n\u001b[1;32m      4\u001b[0m     \u001b[0mlast_name\u001b[0m \u001b[0mtext\u001b[0m\u001b[0;34m,\u001b[0m\u001b[0;34m\u001b[0m\u001b[0;34m\u001b[0m\u001b[0m\n\u001b[1;32m      5\u001b[0m     \u001b[0memail\u001b[0m \u001b[0mtext\u001b[0m\u001b[0;34m\u001b[0m\u001b[0;34m\u001b[0m\u001b[0m\n\u001b[0;32m----> 6\u001b[0;31m )\"\"\")\n\u001b[0m",
      "\u001b[0;31mOperationalError\u001b[0m: table customers already exists"
     ]
    }
   ],
   "source": [
    "# create a table\n",
    "c.execute(\"\"\"CREATE TABLE customers (\n",
    "    first_name text,\n",
    "    last_name text,\n",
    "    email text\n",
    ")\"\"\")"
   ]
  },
  {
   "cell_type": "code",
   "execution_count": 12,
   "metadata": {},
   "outputs": [],
   "source": [
    "many_customers = [\n",
    "                    ('will','smith','willsmith@codemy.com'),\n",
    "                    ('bob','douglas','bobdouglas@codemy.com'),\n",
    "                    ('derrick','rose','derrickrose@codemy.com'),\n",
    "                 ]"
   ]
  },
  {
   "cell_type": "code",
   "execution_count": 13,
   "metadata": {},
   "outputs": [
    {
     "data": {
      "text/plain": [
       "<sqlite3.Cursor at 0x7beca2207500>"
      ]
     },
     "execution_count": 13,
     "metadata": {},
     "output_type": "execute_result"
    }
   ],
   "source": [
    "# create a table\n",
    "c.executemany(\"INSERT INTO customers VALUES (?,?,?)\",many_customers)\n",
    "\n"
   ]
  },
  {
   "cell_type": "code",
   "execution_count": 14,
   "metadata": {},
   "outputs": [
    {
     "name": "stdout",
     "output_type": "stream",
     "text": [
      "('Marry', 'Green', 'MarryGreen@codemy.com')\n"
     ]
    }
   ],
   "source": [
    "c.execute(\"select * from customers where last_name = 'Green'\")\n",
    "#print(c.fetchone())\n",
    "#print(c.fetchmany(3))\n",
    "# print(c.fetchall())\n",
    "\n",
    "items = c.fetchall()\n",
    "\n",
    "for items in items:\n",
    "    print(items)"
   ]
  },
  {
   "cell_type": "raw",
   "metadata": {},
   "source": [
    "# sqlite have only5 datatypes \n",
    "#NULL INT REAL TEXT BLOB"
   ]
  },
  {
   "cell_type": "code",
   "execution_count": 15,
   "metadata": {},
   "outputs": [],
   "source": [
    "# commit our command\n",
    "conn.commit()\n",
    "#conn.close() "
   ]
  },
  {
   "cell_type": "code",
   "execution_count": 16,
   "metadata": {},
   "outputs": [],
   "source": [
    "# update records\n",
    "c.execute (\"\"\"update customers SET first_name = 'bobb' where last_name = 'douglas'\n",
    "       \"\"\")\n",
    "conn.commit()\n"
   ]
  },
  {
   "cell_type": "code",
   "execution_count": 17,
   "metadata": {},
   "outputs": [
    {
     "name": "stdout",
     "output_type": "stream",
     "text": [
      "(1, 'John', 'Cider', 'john@codemy.com')\n",
      "(2, 'Tim', 'Smith', 'TimSmith@codemy.com')\n",
      "(3, 'Marry', 'Green', 'MarryGreen@codemy.com')\n",
      "(4, 'will', 'smith', 'willsmith@codemy.com')\n",
      "(5, 'bobb', 'douglas', 'bobdouglas@codemy.com')\n",
      "(6, 'derrick', 'rose', 'derrickrose@codemy.com')\n",
      "(7, 'will', 'smith', 'willsmith@codemy.com')\n",
      "(8, 'bobb', 'douglas', 'bobdouglas@codemy.com')\n",
      "(9, 'derrick', 'rose', 'derrickrose@codemy.com')\n",
      "(10, 'will', 'smith', 'willsmith@codemy.com')\n",
      "(11, 'bobb', 'douglas', 'bobdouglas@codemy.com')\n",
      "(12, 'derrick', 'rose', 'derrickrose@codemy.com')\n"
     ]
    }
   ],
   "source": [
    "c.execute(\"select rowid,* from customers\")\n",
    "items= c.fetchall()\n",
    "\n",
    "for items in items:\n",
    "    print(items)"
   ]
  },
  {
   "cell_type": "code",
   "execution_count": 18,
   "metadata": {},
   "outputs": [],
   "source": [
    "# update records\n",
    "c.execute (\"\"\"update customers SET first_name = 'bob' where rowid = 5\n",
    "       \"\"\")\n",
    "conn.commit()\n"
   ]
  },
  {
   "cell_type": "code",
   "execution_count": 19,
   "metadata": {},
   "outputs": [
    {
     "name": "stdout",
     "output_type": "stream",
     "text": [
      "(1, 'John', 'Cider', 'john@codemy.com')\n",
      "(2, 'Tim', 'Smith', 'TimSmith@codemy.com')\n",
      "(3, 'Marry', 'Green', 'MarryGreen@codemy.com')\n",
      "(4, 'will', 'smith', 'willsmith@codemy.com')\n",
      "(5, 'bob', 'douglas', 'bobdouglas@codemy.com')\n",
      "(6, 'derrick', 'rose', 'derrickrose@codemy.com')\n",
      "(7, 'will', 'smith', 'willsmith@codemy.com')\n",
      "(8, 'bobb', 'douglas', 'bobdouglas@codemy.com')\n",
      "(9, 'derrick', 'rose', 'derrickrose@codemy.com')\n",
      "(10, 'will', 'smith', 'willsmith@codemy.com')\n",
      "(11, 'bobb', 'douglas', 'bobdouglas@codemy.com')\n",
      "(12, 'derrick', 'rose', 'derrickrose@codemy.com')\n"
     ]
    }
   ],
   "source": [
    "c.execute(\"select rowid,* from customers\")\n",
    "items= c.fetchall()\n",
    "\n",
    "for items in items:\n",
    "    print(items)"
   ]
  },
  {
   "cell_type": "code",
   "execution_count": 20,
   "metadata": {},
   "outputs": [
    {
     "data": {
      "text/plain": [
       "<sqlite3.Cursor at 0x7beca2207500>"
      ]
     },
     "execution_count": 20,
     "metadata": {},
     "output_type": "execute_result"
    }
   ],
   "source": [
    "# del from our records\n",
    "c.execute(\"delete from customers where rowid=5\")"
   ]
  },
  {
   "cell_type": "code",
   "execution_count": 21,
   "metadata": {},
   "outputs": [
    {
     "name": "stdout",
     "output_type": "stream",
     "text": [
      "(1, 'John', 'Cider', 'john@codemy.com')\n",
      "(2, 'Tim', 'Smith', 'TimSmith@codemy.com')\n",
      "(3, 'Marry', 'Green', 'MarryGreen@codemy.com')\n",
      "(4, 'will', 'smith', 'willsmith@codemy.com')\n",
      "(6, 'derrick', 'rose', 'derrickrose@codemy.com')\n",
      "(7, 'will', 'smith', 'willsmith@codemy.com')\n",
      "(8, 'bobb', 'douglas', 'bobdouglas@codemy.com')\n",
      "(9, 'derrick', 'rose', 'derrickrose@codemy.com')\n",
      "(10, 'will', 'smith', 'willsmith@codemy.com')\n",
      "(11, 'bobb', 'douglas', 'bobdouglas@codemy.com')\n",
      "(12, 'derrick', 'rose', 'derrickrose@codemy.com')\n"
     ]
    }
   ],
   "source": [
    "c.execute(\"select rowid,* from customers\")\n",
    "items= c.fetchall()\n",
    "\n",
    "for items in items:\n",
    "    print(items)"
   ]
  },
  {
   "cell_type": "code",
   "execution_count": 22,
   "metadata": {},
   "outputs": [
    {
     "name": "stdout",
     "output_type": "stream",
     "text": [
      "(12, 'derrick', 'rose', 'derrickrose@codemy.com')\n",
      "(11, 'bobb', 'douglas', 'bobdouglas@codemy.com')\n",
      "(10, 'will', 'smith', 'willsmith@codemy.com')\n",
      "(9, 'derrick', 'rose', 'derrickrose@codemy.com')\n",
      "(8, 'bobb', 'douglas', 'bobdouglas@codemy.com')\n",
      "(7, 'will', 'smith', 'willsmith@codemy.com')\n",
      "(6, 'derrick', 'rose', 'derrickrose@codemy.com')\n",
      "(4, 'will', 'smith', 'willsmith@codemy.com')\n",
      "(3, 'Marry', 'Green', 'MarryGreen@codemy.com')\n",
      "(2, 'Tim', 'Smith', 'TimSmith@codemy.com')\n",
      "(1, 'John', 'Cider', 'john@codemy.com')\n"
     ]
    }
   ],
   "source": [
    "# Orderby\n",
    "c.execute(\"select rowid,* from customers order by rowid DESC\")\n",
    "items= c.fetchall()\n",
    "\n",
    "for items in items:\n",
    "    print(items)"
   ]
  },
  {
   "cell_type": "code",
   "execution_count": 23,
   "metadata": {},
   "outputs": [
    {
     "name": "stdout",
     "output_type": "stream",
     "text": [
      "(2, 'Tim', 'Smith', 'TimSmith@codemy.com')\n",
      "(4, 'will', 'smith', 'willsmith@codemy.com')\n",
      "(7, 'will', 'smith', 'willsmith@codemy.com')\n",
      "(10, 'will', 'smith', 'willsmith@codemy.com')\n"
     ]
    }
   ],
   "source": [
    "# And/or\n",
    "c.execute(\"select rowid,* from customers where last_name like 'sm%' or rowid = 4\")\n",
    "items= c.fetchall()\n",
    "\n",
    "for items in items:\n",
    "    print(items)"
   ]
  },
  {
   "cell_type": "code",
   "execution_count": 24,
   "metadata": {},
   "outputs": [
    {
     "name": "stdout",
     "output_type": "stream",
     "text": [
      "(12, 'derrick', 'rose', 'derrickrose@codemy.com')\n",
      "(11, 'bobb', 'douglas', 'bobdouglas@codemy.com')\n",
      "(10, 'will', 'smith', 'willsmith@codemy.com')\n"
     ]
    }
   ],
   "source": [
    "#Limiting\n",
    "c.execute(\"select rowid,* from customers order by rowid DESC limit 3\")\n",
    "items= c.fetchall()\n",
    "\n",
    "for items in items:\n",
    "    print(items)"
   ]
  },
  {
   "cell_type": "code",
   "execution_count": 16,
   "metadata": {},
   "outputs": [],
   "source": [
    "def show_all():\n",
    "    #Conn to database\n",
    "    conn = sqlite3.connect('customer.db')\n",
    "    #Create a cursor\n",
    "    c = conn.cursor()\n",
    "    #Query for db\n",
    "    c.execute(\"select rowid,* from customers\")\n",
    "    items= c.fetchall()\n",
    "    \n",
    "    for items in items:\n",
    "        print(items)\n",
    "    \n",
    "    #Commit our cmd\n",
    "    conn.commit()\n",
    "    #Close out conn\n",
    "    conn.close()"
   ]
  },
  {
   "cell_type": "code",
   "execution_count": 29,
   "metadata": {},
   "outputs": [],
   "source": [
    "import pandas as pd\n",
    "import sqlite3"
   ]
  },
  {
   "cell_type": "code",
   "execution_count": 30,
   "metadata": {},
   "outputs": [],
   "source": [
    "con = sqlite3.connect('customer.db')"
   ]
  },
  {
   "cell_type": "code",
   "execution_count": 31,
   "metadata": {},
   "outputs": [],
   "source": [
    "sql = \"\"\" \n",
    "select * from customers;\n",
    "\"\"\""
   ]
  },
  {
   "cell_type": "code",
   "execution_count": 32,
   "metadata": {},
   "outputs": [],
   "source": [
    "df= pd.read_sql_query(sql,con)"
   ]
  },
  {
   "cell_type": "code",
   "execution_count": 33,
   "metadata": {},
   "outputs": [
    {
     "data": {
      "text/html": [
       "<div>\n",
       "<style scoped>\n",
       "    .dataframe tbody tr th:only-of-type {\n",
       "        vertical-align: middle;\n",
       "    }\n",
       "\n",
       "    .dataframe tbody tr th {\n",
       "        vertical-align: top;\n",
       "    }\n",
       "\n",
       "    .dataframe thead th {\n",
       "        text-align: right;\n",
       "    }\n",
       "</style>\n",
       "<table border=\"1\" class=\"dataframe\">\n",
       "  <thead>\n",
       "    <tr style=\"text-align: right;\">\n",
       "      <th></th>\n",
       "      <th>first_name</th>\n",
       "      <th>last_name</th>\n",
       "      <th>email</th>\n",
       "    </tr>\n",
       "  </thead>\n",
       "  <tbody>\n",
       "    <tr>\n",
       "      <th>0</th>\n",
       "      <td>John</td>\n",
       "      <td>Cider</td>\n",
       "      <td>john@codemy.com</td>\n",
       "    </tr>\n",
       "    <tr>\n",
       "      <th>1</th>\n",
       "      <td>Tim</td>\n",
       "      <td>Smith</td>\n",
       "      <td>TimSmith@codemy.com</td>\n",
       "    </tr>\n",
       "    <tr>\n",
       "      <th>2</th>\n",
       "      <td>Marry</td>\n",
       "      <td>Green</td>\n",
       "      <td>MarryGreen@codemy.com</td>\n",
       "    </tr>\n",
       "    <tr>\n",
       "      <th>3</th>\n",
       "      <td>will</td>\n",
       "      <td>smith</td>\n",
       "      <td>willsmith@codemy.com</td>\n",
       "    </tr>\n",
       "    <tr>\n",
       "      <th>4</th>\n",
       "      <td>bob</td>\n",
       "      <td>douglas</td>\n",
       "      <td>bobdouglas@codemy.com</td>\n",
       "    </tr>\n",
       "    <tr>\n",
       "      <th>5</th>\n",
       "      <td>derrick</td>\n",
       "      <td>rose</td>\n",
       "      <td>derrickrose@codemy.com</td>\n",
       "    </tr>\n",
       "    <tr>\n",
       "      <th>6</th>\n",
       "      <td>will</td>\n",
       "      <td>smith</td>\n",
       "      <td>willsmith@codemy.com</td>\n",
       "    </tr>\n",
       "    <tr>\n",
       "      <th>7</th>\n",
       "      <td>bobb</td>\n",
       "      <td>douglas</td>\n",
       "      <td>bobdouglas@codemy.com</td>\n",
       "    </tr>\n",
       "    <tr>\n",
       "      <th>8</th>\n",
       "      <td>derrick</td>\n",
       "      <td>rose</td>\n",
       "      <td>derrickrose@codemy.com</td>\n",
       "    </tr>\n",
       "    <tr>\n",
       "      <th>9</th>\n",
       "      <td>will</td>\n",
       "      <td>smith</td>\n",
       "      <td>willsmith@codemy.com</td>\n",
       "    </tr>\n",
       "    <tr>\n",
       "      <th>10</th>\n",
       "      <td>bobb</td>\n",
       "      <td>douglas</td>\n",
       "      <td>bobdouglas@codemy.com</td>\n",
       "    </tr>\n",
       "    <tr>\n",
       "      <th>11</th>\n",
       "      <td>derrick</td>\n",
       "      <td>rose</td>\n",
       "      <td>derrickrose@codemy.com</td>\n",
       "    </tr>\n",
       "  </tbody>\n",
       "</table>\n",
       "</div>"
      ],
      "text/plain": [
       "   first_name last_name                   email\n",
       "0        John     Cider         john@codemy.com\n",
       "1         Tim     Smith     TimSmith@codemy.com\n",
       "2       Marry     Green   MarryGreen@codemy.com\n",
       "3        will     smith    willsmith@codemy.com\n",
       "4         bob   douglas   bobdouglas@codemy.com\n",
       "5     derrick      rose  derrickrose@codemy.com\n",
       "6        will     smith    willsmith@codemy.com\n",
       "7        bobb   douglas   bobdouglas@codemy.com\n",
       "8     derrick      rose  derrickrose@codemy.com\n",
       "9        will     smith    willsmith@codemy.com\n",
       "10       bobb   douglas   bobdouglas@codemy.com\n",
       "11    derrick      rose  derrickrose@codemy.com"
      ]
     },
     "execution_count": 33,
     "metadata": {},
     "output_type": "execute_result"
    }
   ],
   "source": [
    "df"
   ]
  },
  {
   "cell_type": "code",
   "execution_count": null,
   "metadata": {},
   "outputs": [],
   "source": []
  }
 ],
 "metadata": {
  "kernelspec": {
   "display_name": "Python 3",
   "language": "python",
   "name": "python3"
  },
  "language_info": {
   "codemirror_mode": {
    "name": "ipython",
    "version": 3
   },
   "file_extension": ".py",
   "mimetype": "text/x-python",
   "name": "python",
   "nbconvert_exporter": "python",
   "pygments_lexer": "ipython3",
   "version": "3.7.3"
  }
 },
 "nbformat": 4,
 "nbformat_minor": 4
}
